{
 "cells": [
  {
   "cell_type": "code",
   "execution_count": 6,
   "metadata": {},
   "outputs": [
    {
     "name": "stdout",
     "output_type": "stream",
     "text": [
      "Adam Elliott has made the Dean's List!\n",
      "Sarah Hob has made the Dean's List!\n",
      "Ban Tan has made the Dean's List!\n",
      "Suse Lol has made the Honor Roll!\n",
      "Bob Smith did not qualify for Dean's List or Honor Roll.\n",
      "done!\n"
     ]
    }
   ],
   "source": [
    "# Author: Adam Elliott\n",
    "# File: Python_app.ipynb\n",
    "# Purpose: Takes user input for last and first name as well as GPA. Then calculates if they made the Dean's list,\n",
    "# Honor roll, or they did not make either. Then gives the user output based on the input and then the program terminates.\n",
    "i=0\n",
    "\n",
    "while (True):\n",
    "    last_name = input(\"Enter the students last name ('ZZZ' to quit): \").strip()\n",
    "    if last_name.upper() == 'ZZZ':\n",
    "        break\n",
    "    first_name = input(\"Enter the student's first name: \").strip()\n",
    "    GPA = float(input(\"Enter GPA: \").strip())\n",
    "    if (GPA >= 3.5):\n",
    "        print(f\"{first_name} {last_name} has made the Dean's List!\")\n",
    "    elif (GPA >= 3.25):\n",
    "        print(f\"{first_name} {last_name} has made the Honor Roll!\")\n",
    "    else:\n",
    "        print(f\"{first_name} {last_name} did not qualify for Dean's List or Honor Roll.\")\n",
    "    i = i + 1\n",
    "    if (i == 5):\n",
    "        print('done!')\n",
    "        break\n",
    "\n"
   ]
  },
  {
   "cell_type": "code",
   "execution_count": 18,
   "metadata": {},
   "outputs": [],
   "source": [
    "\n"
   ]
  }
 ],
 "metadata": {
  "kernelspec": {
   "display_name": "base",
   "language": "python",
   "name": "python3"
  },
  "language_info": {
   "codemirror_mode": {
    "name": "ipython",
    "version": 3
   },
   "file_extension": ".py",
   "mimetype": "text/x-python",
   "name": "python",
   "nbconvert_exporter": "python",
   "pygments_lexer": "ipython3",
   "version": "3.12.4"
  }
 },
 "nbformat": 4,
 "nbformat_minor": 2
}
